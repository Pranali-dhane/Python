{
 "cells": [
  {
   "cell_type": "markdown",
   "id": "4bdd361e-a937-49dc-bbb7-94b930527e58",
   "metadata": {},
   "source": [
    "# String"
   ]
  },
  {
   "cell_type": "code",
   "execution_count": 2,
   "id": "95e7c8fe-91bc-4f48-8b3b-8ac063e506ff",
   "metadata": {},
   "outputs": [],
   "source": [
    "single = 'Hello world'"
   ]
  },
  {
   "cell_type": "code",
   "execution_count": 4,
   "id": "733142f1-3776-4983-ba34-cc4cdbdcf173",
   "metadata": {},
   "outputs": [],
   "source": [
    "double = \"python is Great\""
   ]
  },
  {
   "cell_type": "code",
   "execution_count": 6,
   "id": "39e800b4-1d27-4aff-830a-7119b5eaf3e4",
   "metadata": {},
   "outputs": [],
   "source": [
    "triple = \"\"\" This is a \n",
    "multiline\n",
    "string. pressed 1\n",
    "and 2 \"\"\""
   ]
  },
  {
   "cell_type": "code",
   "execution_count": 8,
   "id": "902e671b-8c8c-4583-9e42-5274d736a704",
   "metadata": {},
   "outputs": [
    {
     "data": {
      "text/plain": [
       "str"
      ]
     },
     "execution_count": 8,
     "metadata": {},
     "output_type": "execute_result"
    }
   ],
   "source": [
    "type(single)"
   ]
  },
  {
   "cell_type": "code",
   "execution_count": 10,
   "id": "14161338-c0ca-444e-84fd-6767c9856714",
   "metadata": {},
   "outputs": [
    {
     "name": "stdout",
     "output_type": "stream",
     "text": [
      " This is a \n",
      "multiline\n",
      "string. pressed 1\n",
      "and 2 \n"
     ]
    }
   ],
   "source": [
    "print(triple)"
   ]
  },
  {
   "cell_type": "code",
   "execution_count": 12,
   "id": "c9415131-0f91-4fb5-a019-dd34d81f8d38",
   "metadata": {},
   "outputs": [],
   "source": [
    "# Concatenation"
   ]
  },
  {
   "cell_type": "code",
   "execution_count": 14,
   "id": "9718aef9-f8be-4933-88c2-b0ae6ff752d5",
   "metadata": {},
   "outputs": [],
   "source": [
    "first = \"pranali\"\n",
    "last = \"dhane\""
   ]
  },
  {
   "cell_type": "code",
   "execution_count": 16,
   "id": "1e395f9c-ec56-4f5a-becb-2da0249b3758",
   "metadata": {},
   "outputs": [
    {
     "name": "stdout",
     "output_type": "stream",
     "text": [
      "pranalidhane\n"
     ]
    }
   ],
   "source": [
    "full_name = first + last\n",
    "print(full_name)"
   ]
  },
  {
   "cell_type": "code",
   "execution_count": 20,
   "id": "307c28f7-7cf1-4995-ae13-6d7ef4f5119f",
   "metadata": {},
   "outputs": [
    {
     "name": "stdout",
     "output_type": "stream",
     "text": [
      "pranali dhane\n"
     ]
    }
   ],
   "source": [
    "full_name = first + \" \" + last\n",
    "print(full_name)"
   ]
  },
  {
   "cell_type": "code",
   "execution_count": 22,
   "id": "81f582f0-6dd7-4af7-87d5-3d21c284aa1f",
   "metadata": {},
   "outputs": [
    {
     "name": "stdout",
     "output_type": "stream",
     "text": [
      " Length of full_name: 13\n"
     ]
    }
   ],
   "source": [
    "# length\n",
    "print( \" Length of full_name:\",len(full_name))"
   ]
  },
  {
   "cell_type": "markdown",
   "id": "3968da30-75c6-4a82-ace5-8d254ba5ffc7",
   "metadata": {},
   "source": [
    "# Indexing"
   ]
  },
  {
   "cell_type": "code",
   "execution_count": 25,
   "id": "d65674a7-bff6-4472-9d1a-c1c585fbee28",
   "metadata": {},
   "outputs": [
    {
     "data": {
      "text/plain": [
       "'r'"
      ]
     },
     "execution_count": 25,
     "metadata": {},
     "output_type": "execute_result"
    }
   ],
   "source": [
    "full_name[1] # positive indexing"
   ]
  },
  {
   "cell_type": "code",
   "execution_count": 27,
   "id": "111e3337-10ca-46e3-b6c3-46e49f2c8659",
   "metadata": {},
   "outputs": [
    {
     "data": {
      "text/plain": [
       "'d'"
      ]
     },
     "execution_count": 27,
     "metadata": {},
     "output_type": "execute_result"
    }
   ],
   "source": [
    "full_name[-5] # negative indexing"
   ]
  },
  {
   "cell_type": "markdown",
   "id": "95cef35f-aeb4-4210-9368-91a8f87011bc",
   "metadata": {},
   "source": [
    "# Slicing"
   ]
  },
  {
   "cell_type": "code",
   "execution_count": 30,
   "id": "70cc6846-4f96-4113-bd58-9e9a2d7c7f79",
   "metadata": {},
   "outputs": [],
   "source": [
    "name = \"Python is a langauge\""
   ]
  },
  {
   "cell_type": "code",
   "execution_count": 32,
   "id": "59e58914-252f-47f9-bf66-86c0c439fb79",
   "metadata": {},
   "outputs": [
    {
     "data": {
      "text/plain": [
       "'is '"
      ]
     },
     "execution_count": 32,
     "metadata": {},
     "output_type": "execute_result"
    }
   ],
   "source": [
    "# is a \n",
    "name[7:10]"
   ]
  },
  {
   "cell_type": "code",
   "execution_count": 34,
   "id": "d80efde4-9085-4c6d-a227-074f3cb63f19",
   "metadata": {},
   "outputs": [
    {
     "data": {
      "text/plain": [
       "'is a'"
      ]
     },
     "execution_count": 34,
     "metadata": {},
     "output_type": "execute_result"
    }
   ],
   "source": [
    "name[7:11]"
   ]
  },
  {
   "cell_type": "code",
   "execution_count": 36,
   "id": "675f9e14-c313-4bff-8c39-92ac88416215",
   "metadata": {},
   "outputs": [
    {
     "data": {
      "text/plain": [
       "'lang'"
      ]
     },
     "execution_count": 36,
     "metadata": {},
     "output_type": "execute_result"
    }
   ],
   "source": [
    "# negative indexing\n",
    "name[-8:-4]"
   ]
  },
  {
   "cell_type": "code",
   "execution_count": 38,
   "id": "592c13ed-1530-4e94-8acf-9870c5a68286",
   "metadata": {},
   "outputs": [
    {
     "data": {
      "text/plain": [
       "'e'"
      ]
     },
     "execution_count": 38,
     "metadata": {},
     "output_type": "execute_result"
    }
   ],
   "source": [
    "full_name[-1]"
   ]
  },
  {
   "cell_type": "code",
   "execution_count": 44,
   "id": "a5cbc143-064f-4f6c-a80e-005795332dc2",
   "metadata": {},
   "outputs": [
    {
     "data": {
      "text/plain": [
       "'y'"
      ]
     },
     "execution_count": 44,
     "metadata": {},
     "output_type": "execute_result"
    }
   ],
   "source": [
    "name[1]"
   ]
  },
  {
   "cell_type": "code",
   "execution_count": 46,
   "id": "2b941b9a-5b5e-4d9a-8ef9-7b150523579e",
   "metadata": {},
   "outputs": [
    {
     "data": {
      "text/plain": [
       "'langauge'"
      ]
     },
     "execution_count": 46,
     "metadata": {},
     "output_type": "execute_result"
    }
   ],
   "source": [
    "# negative indexing\n",
    "name[-8:]"
   ]
  },
  {
   "cell_type": "markdown",
   "id": "d5dbeb7b-b835-4dce-969b-de4fefbc88f5",
   "metadata": {},
   "source": [
    "### Conversion"
   ]
  },
  {
   "cell_type": "code",
   "execution_count": 49,
   "id": "5418007e-c08b-4def-bbfa-807e16117386",
   "metadata": {},
   "outputs": [
    {
     "data": {
      "text/plain": [
       "int"
      ]
     },
     "execution_count": 49,
     "metadata": {},
     "output_type": "execute_result"
    }
   ],
   "source": [
    "# Convert number to string\n",
    "num = 7\n",
    "type(num)"
   ]
  },
  {
   "cell_type": "code",
   "execution_count": 51,
   "id": "2c233685-78cf-4edb-b102-e964cb1336b3",
   "metadata": {},
   "outputs": [
    {
     "name": "stdout",
     "output_type": "stream",
     "text": [
      "7\n",
      "<class 'str'>\n"
     ]
    }
   ],
   "source": [
    "str_num = str(num)\n",
    "print(str_num)\n",
    "print(type(str_num))"
   ]
  },
  {
   "cell_type": "code",
   "execution_count": 53,
   "id": "f49e926b-cf61-4072-92e4-21ab4655fafd",
   "metadata": {},
   "outputs": [
    {
     "data": {
      "text/plain": [
       "float"
      ]
     },
     "execution_count": 53,
     "metadata": {},
     "output_type": "execute_result"
    }
   ],
   "source": [
    "# convert string to float\n",
    "float_num = float(str_num)\n",
    "type(float_num)"
   ]
  },
  {
   "cell_type": "code",
   "execution_count": 55,
   "id": "9a46d4cd-eb7d-4527-99a2-d5ad2feca157",
   "metadata": {},
   "outputs": [
    {
     "data": {
      "text/plain": [
       "7.0"
      ]
     },
     "execution_count": 55,
     "metadata": {},
     "output_type": "execute_result"
    }
   ],
   "source": [
    "float_num"
   ]
  },
  {
   "cell_type": "code",
   "execution_count": 57,
   "id": "dddeb4a4-d426-4f94-bd79-3b8aa7233c2b",
   "metadata": {},
   "outputs": [
    {
     "name": "stdout",
     "output_type": "stream",
     "text": [
      "7\n"
     ]
    }
   ],
   "source": [
    "# convert float to int\n",
    "a = 7.55\n",
    "int_a = int(a) \n",
    "print(int_a)"
   ]
  },
  {
   "cell_type": "code",
   "execution_count": 59,
   "id": "7e565601-1530-4e7b-a443-e9f925970582",
   "metadata": {},
   "outputs": [
    {
     "data": {
      "text/plain": [
       "(7.55+0j)"
      ]
     },
     "execution_count": 59,
     "metadata": {},
     "output_type": "execute_result"
    }
   ],
   "source": [
    "complex(a)"
   ]
  },
  {
   "cell_type": "markdown",
   "id": "72d5ec77-e803-43c2-8f50-af2961ffb9f4",
   "metadata": {},
   "source": [
    "# Methods"
   ]
  },
  {
   "cell_type": "code",
   "execution_count": 62,
   "id": "6e3db080-831e-45f2-91b0-0a72b5172ea3",
   "metadata": {},
   "outputs": [
    {
     "data": {
      "text/plain": [
       "'Python is a langauge'"
      ]
     },
     "execution_count": 62,
     "metadata": {},
     "output_type": "execute_result"
    }
   ],
   "source": [
    "name"
   ]
  },
  {
   "cell_type": "code",
   "execution_count": 64,
   "id": "927ff50c-4f9f-4af5-a8a1-531cebb4c3b8",
   "metadata": {},
   "outputs": [
    {
     "data": {
      "text/plain": [
       "'PYTHON IS A LANGAUGE'"
      ]
     },
     "execution_count": 64,
     "metadata": {},
     "output_type": "execute_result"
    }
   ],
   "source": [
    "name.upper()"
   ]
  },
  {
   "cell_type": "code",
   "execution_count": 66,
   "id": "74677287-7293-4f35-bff3-c96daff81dc4",
   "metadata": {},
   "outputs": [
    {
     "data": {
      "text/plain": [
       "'python is a langauge'"
      ]
     },
     "execution_count": 66,
     "metadata": {},
     "output_type": "execute_result"
    }
   ],
   "source": [
    "name.lower()"
   ]
  },
  {
   "cell_type": "code",
   "execution_count": 70,
   "id": "d7374444-4534-4eaa-a00d-913568cfaa4b",
   "metadata": {},
   "outputs": [
    {
     "data": {
      "text/plain": [
       "'Python is a langauge'"
      ]
     },
     "execution_count": 70,
     "metadata": {},
     "output_type": "execute_result"
    }
   ],
   "source": [
    "name.capitalize()"
   ]
  },
  {
   "cell_type": "code",
   "execution_count": 72,
   "id": "0a30e68e-abb8-436f-b650-f7d3b2dc3b3d",
   "metadata": {},
   "outputs": [
    {
     "data": {
      "text/plain": [
       "'Python Is A Langauge'"
      ]
     },
     "execution_count": 72,
     "metadata": {},
     "output_type": "execute_result"
    }
   ],
   "source": [
    "name.title()"
   ]
  },
  {
   "cell_type": "markdown",
   "id": "9e5f823d-1a7b-454b-a893-358f54bade52",
   "metadata": {},
   "source": [
    "# Striping Method"
   ]
  },
  {
   "cell_type": "code",
   "execution_count": 75,
   "id": "2a9fa7c6-2b52-4570-a5b2-64f7bd5f38b9",
   "metadata": {},
   "outputs": [
    {
     "data": {
      "text/plain": [
       "' Python is fun'"
      ]
     },
     "execution_count": 75,
     "metadata": {},
     "output_type": "execute_result"
    }
   ],
   "source": [
    "my_string = \" Python is fun\"\n",
    "my_string"
   ]
  },
  {
   "cell_type": "code",
   "execution_count": 77,
   "id": "88c6da64-aea3-45ae-bcec-ad9f7f689b6a",
   "metadata": {},
   "outputs": [
    {
     "data": {
      "text/plain": [
       "'Python is fun'"
      ]
     },
     "execution_count": 77,
     "metadata": {},
     "output_type": "execute_result"
    }
   ],
   "source": [
    "my_string.strip()"
   ]
  },
  {
   "cell_type": "code",
   "execution_count": 79,
   "id": "fd1b5f0d-e74d-44ae-9c77-5376a13a3078",
   "metadata": {},
   "outputs": [
    {
     "data": {
      "text/plain": [
       "'Python is fun'"
      ]
     },
     "execution_count": 79,
     "metadata": {},
     "output_type": "execute_result"
    }
   ],
   "source": [
    "my_string.lstrip()"
   ]
  },
  {
   "cell_type": "code",
   "execution_count": 81,
   "id": "8e3d4988-c700-4324-b933-d23d6aaf9646",
   "metadata": {},
   "outputs": [
    {
     "data": {
      "text/plain": [
       "' Python is fun'"
      ]
     },
     "execution_count": 81,
     "metadata": {},
     "output_type": "execute_result"
    }
   ],
   "source": [
    "my_string.rstrip()"
   ]
  },
  {
   "cell_type": "markdown",
   "id": "9816ca40-e76e-47f1-bbf2-b6d78bd3e9fe",
   "metadata": {},
   "source": [
    "# Search and replace Method"
   ]
  },
  {
   "cell_type": "code",
   "execution_count": 104,
   "id": "07040273-0b6c-477d-b17f-56df5d8bbf64",
   "metadata": {},
   "outputs": [],
   "source": [
    "seq = \" Python is fun and Python is easy\""
   ]
  },
  {
   "cell_type": "code",
   "execution_count": 88,
   "id": "aa2afc64-ff8e-41b3-8e8c-abdabc94d4d1",
   "metadata": {},
   "outputs": [
    {
     "data": {
      "text/plain": [
       "11"
      ]
     },
     "execution_count": 88,
     "metadata": {},
     "output_type": "execute_result"
    }
   ],
   "source": [
    "seq.find(\"fun\")"
   ]
  },
  {
   "cell_type": "code",
   "execution_count": 90,
   "id": "35cf1e92-e712-4f93-bf20-e3b23783e43a",
   "metadata": {},
   "outputs": [],
   "source": [
    "replaced = seq.replace('easy', 'hard')"
   ]
  },
  {
   "cell_type": "code",
   "execution_count": 92,
   "id": "c49de6b2-b8f5-48a0-aa28-9bcd3eaf335a",
   "metadata": {},
   "outputs": [
    {
     "data": {
      "text/plain": [
       "' Python is fun and python is hard'"
      ]
     },
     "execution_count": 92,
     "metadata": {},
     "output_type": "execute_result"
    }
   ],
   "source": [
    "replaced"
   ]
  },
  {
   "cell_type": "code",
   "execution_count": 94,
   "id": "33e088e4-26e4-4348-90d6-ded3eef5d2ae",
   "metadata": {},
   "outputs": [],
   "source": [
    "count_is = seq.count(\"is\")"
   ]
  },
  {
   "cell_type": "code",
   "execution_count": 96,
   "id": "9ccc80c2-7775-4679-a7b0-8bd15ce4019b",
   "metadata": {},
   "outputs": [
    {
     "data": {
      "text/plain": [
       "2"
      ]
     },
     "execution_count": 96,
     "metadata": {},
     "output_type": "execute_result"
    }
   ],
   "source": [
    "count_is"
   ]
  },
  {
   "cell_type": "code",
   "execution_count": 122,
   "id": "52a18db1-983e-414d-a925-e0681be62b3b",
   "metadata": {},
   "outputs": [
    {
     "data": {
      "text/plain": [
       "0"
      ]
     },
     "execution_count": 122,
     "metadata": {},
     "output_type": "execute_result"
    }
   ],
   "source": [
    "seq.count(\"pranali\")"
   ]
  },
  {
   "cell_type": "code",
   "execution_count": 124,
   "id": "26d7aed2-743f-4f20-a0b5-077d21e4d8cf",
   "metadata": {},
   "outputs": [
    {
     "data": {
      "text/plain": [
       "1"
      ]
     },
     "execution_count": 124,
     "metadata": {},
     "output_type": "execute_result"
    }
   ],
   "source": [
    "replaced.count(\"hard\")"
   ]
  },
  {
   "cell_type": "code",
   "execution_count": 126,
   "id": "831a9f6c-7a46-42fd-ae9a-7fe70cb11e8f",
   "metadata": {},
   "outputs": [],
   "source": [
    "count_fun = seq.count(\"fun\")"
   ]
  },
  {
   "cell_type": "code",
   "execution_count": 128,
   "id": "824175d0-3a7f-4a02-87ac-52cd68eb8e7d",
   "metadata": {},
   "outputs": [
    {
     "data": {
      "text/plain": [
       "1"
      ]
     },
     "execution_count": 128,
     "metadata": {},
     "output_type": "execute_result"
    }
   ],
   "source": [
    "count_fun"
   ]
  },
  {
   "cell_type": "markdown",
   "id": "858a192f-94eb-47e2-8844-18bdc3aa7727",
   "metadata": {},
   "source": [
    "# Checking"
   ]
  },
  {
   "cell_type": "code",
   "execution_count": 131,
   "id": "bfe0d2f8-1259-4050-b93e-f0a2e29b90a0",
   "metadata": {},
   "outputs": [
    {
     "data": {
      "text/plain": [
       "'Python is a langauge'"
      ]
     },
     "execution_count": 131,
     "metadata": {},
     "output_type": "execute_result"
    }
   ],
   "source": [
    "name"
   ]
  },
  {
   "cell_type": "code",
   "execution_count": 133,
   "id": "838c7d00-1651-4366-b875-5d4cb0ebec79",
   "metadata": {},
   "outputs": [
    {
     "data": {
      "text/plain": [
       "False"
      ]
     },
     "execution_count": 133,
     "metadata": {},
     "output_type": "execute_result"
    }
   ],
   "source": [
    "name.startswith(\"alphabet\")"
   ]
  },
  {
   "cell_type": "code",
   "execution_count": 135,
   "id": "7f7f6f22-4409-4743-9231-d74e7e472828",
   "metadata": {},
   "outputs": [
    {
     "data": {
      "text/plain": [
       "True"
      ]
     },
     "execution_count": 135,
     "metadata": {},
     "output_type": "execute_result"
    }
   ],
   "source": [
    "name.startswith(\"Python\")"
   ]
  },
  {
   "cell_type": "code",
   "execution_count": 138,
   "id": "bb137636-9e04-46b1-8c5a-8bcd77b849ef",
   "metadata": {},
   "outputs": [
    {
     "data": {
      "text/plain": [
       "False"
      ]
     },
     "execution_count": 138,
     "metadata": {},
     "output_type": "execute_result"
    }
   ],
   "source": [
    "name.endswith(\"age\")"
   ]
  },
  {
   "cell_type": "code",
   "execution_count": 140,
   "id": "48c8a7eb-5c2f-4f56-bc79-4c08f633eef7",
   "metadata": {},
   "outputs": [
    {
     "data": {
      "text/plain": [
       "False"
      ]
     },
     "execution_count": 140,
     "metadata": {},
     "output_type": "execute_result"
    }
   ],
   "source": [
    "name.isalpha()"
   ]
  },
  {
   "cell_type": "code",
   "execution_count": 144,
   "id": "9e59602f-ba4f-4c6e-b7d1-dad1c17668f5",
   "metadata": {},
   "outputs": [
    {
     "data": {
      "text/plain": [
       "'7'"
      ]
     },
     "execution_count": 144,
     "metadata": {},
     "output_type": "execute_result"
    }
   ],
   "source": [
    "str_num"
   ]
  },
  {
   "cell_type": "code",
   "execution_count": 146,
   "id": "d5a6b768-f021-4147-850b-9ffe8d794b89",
   "metadata": {},
   "outputs": [
    {
     "data": {
      "text/plain": [
       "True"
      ]
     },
     "execution_count": 146,
     "metadata": {},
     "output_type": "execute_result"
    }
   ],
   "source": [
    "# check number\n",
    "str_num.isdigit()"
   ]
  },
  {
   "cell_type": "code",
   "execution_count": 148,
   "id": "74056838-e5d2-4509-a78f-ee9eb5d12652",
   "metadata": {},
   "outputs": [
    {
     "data": {
      "text/plain": [
       "False"
      ]
     },
     "execution_count": 148,
     "metadata": {},
     "output_type": "execute_result"
    }
   ],
   "source": [
    "# alpha_number\n",
    "name.isalnum()"
   ]
  },
  {
   "cell_type": "markdown",
   "id": "4e9623e1-3160-4f18-b3bb-dea1a116b065",
   "metadata": {},
   "source": [
    "# Splitting and Joining"
   ]
  },
  {
   "cell_type": "code",
   "execution_count": 151,
   "id": "80f7fe20-6632-4ec0-8b00-c40c01e12a36",
   "metadata": {},
   "outputs": [],
   "source": [
    "sent = \" Python is easy and Python is fun\""
   ]
  },
  {
   "cell_type": "code",
   "execution_count": 153,
   "id": "76223895-0f1d-4b94-99fc-10b44d672a99",
   "metadata": {},
   "outputs": [],
   "source": [
    "words = sent.split() # default is space"
   ]
  },
  {
   "cell_type": "code",
   "execution_count": 155,
   "id": "63b24677-6239-4972-ac14-48aaac5492c4",
   "metadata": {},
   "outputs": [
    {
     "data": {
      "text/plain": [
       "['Python', 'is', 'easy', 'and', 'Python', 'is', 'fun']"
      ]
     },
     "execution_count": 155,
     "metadata": {},
     "output_type": "execute_result"
    }
   ],
   "source": [
    "words"
   ]
  },
  {
   "cell_type": "code",
   "execution_count": 157,
   "id": "64387180-7682-48cd-86a6-15d6e10ab51c",
   "metadata": {},
   "outputs": [
    {
     "data": {
      "text/plain": [
       "[' Python is easy ', ' Python is fun']"
      ]
     },
     "execution_count": 157,
     "metadata": {},
     "output_type": "execute_result"
    }
   ],
   "source": [
    "words2 = sent.split('and')\n",
    "words2"
   ]
  },
  {
   "cell_type": "code",
   "execution_count": 159,
   "id": "04904ad5-0724-466a-8bce-459f5a3ca0d3",
   "metadata": {},
   "outputs": [],
   "source": [
    "# join"
   ]
  },
  {
   "cell_type": "code",
   "execution_count": 163,
   "id": "d168509d-b78f-402d-9365-918d551598f2",
   "metadata": {},
   "outputs": [
    {
     "data": {
      "text/plain": [
       "'Python-is-easy-and-Python-is-fun'"
      ]
     },
     "execution_count": 163,
     "metadata": {},
     "output_type": "execute_result"
    }
   ],
   "source": [
    "join_sent = \"-\".join(words)\n",
    "join_sent"
   ]
  },
  {
   "cell_type": "markdown",
   "id": "096fb7b8-a7b7-49fd-8f0b-7e12a3e70cfb",
   "metadata": {},
   "source": [
    "# Formatting"
   ]
  },
  {
   "cell_type": "code",
   "execution_count": 166,
   "id": "943c705c-9691-4d0a-beb7-a05a625b8a1e",
   "metadata": {},
   "outputs": [],
   "source": [
    "name = \"John\"\n",
    "age = 25"
   ]
  },
  {
   "cell_type": "code",
   "execution_count": 168,
   "id": "f2ffb7d9-b7d1-48f4-848f-0d2e0a600e91",
   "metadata": {},
   "outputs": [
    {
     "name": "stdout",
     "output_type": "stream",
     "text": [
      "My name is John and my age is 25\n"
     ]
    }
   ],
   "source": [
    "format_string = \"My name is {} and my age is {}\".format(name,age)\n",
    "print(format_string)"
   ]
  },
  {
   "cell_type": "code",
   "execution_count": 172,
   "id": "a48a92b7-348c-4769-9bf7-45d8492755bb",
   "metadata": {},
   "outputs": [
    {
     "name": "stdout",
     "output_type": "stream",
     "text": [
      "My name is John and my age is 25\n"
     ]
    }
   ],
   "source": [
    "format_string_2 = f\"My name is {name} and my age is {age}\"\n",
    "print(format_string_2)"
   ]
  },
  {
   "cell_type": "code",
   "execution_count": 174,
   "id": "1d4c95d2-d5d8-4b12-8e9a-2b7d6cce5b52",
   "metadata": {},
   "outputs": [
    {
     "data": {
      "text/plain": [
       "65"
      ]
     },
     "execution_count": 174,
     "metadata": {},
     "output_type": "execute_result"
    }
   ],
   "source": [
    "# unicode\n",
    "unicode_value = ord('A')\n",
    "unicode_value"
   ]
  },
  {
   "cell_type": "code",
   "execution_count": 176,
   "id": "02627032-6eaa-4050-97af-98df37fed7bc",
   "metadata": {},
   "outputs": [
    {
     "data": {
      "text/plain": [
       "97"
      ]
     },
     "execution_count": 176,
     "metadata": {},
     "output_type": "execute_result"
    }
   ],
   "source": [
    "ord('a')"
   ]
  },
  {
   "cell_type": "markdown",
   "id": "df245058-dbf1-4b90-adbf-762589b3ad92",
   "metadata": {},
   "source": [
    "# Logical Operator"
   ]
  },
  {
   "cell_type": "code",
   "execution_count": 179,
   "id": "4c7d1c33-708f-4acd-8f7c-caf0c5a494cf",
   "metadata": {},
   "outputs": [],
   "source": [
    "a = True\n",
    "b = False"
   ]
  },
  {
   "cell_type": "code",
   "execution_count": 181,
   "id": "c4001205-cd74-496d-b995-842501ac17d8",
   "metadata": {},
   "outputs": [
    {
     "data": {
      "text/plain": [
       "False"
      ]
     },
     "execution_count": 181,
     "metadata": {},
     "output_type": "execute_result"
    }
   ],
   "source": [
    "a and b"
   ]
  },
  {
   "cell_type": "code",
   "execution_count": 183,
   "id": "f9351637-c09b-4db3-81e8-7586a780b458",
   "metadata": {},
   "outputs": [],
   "source": [
    "x = 5\n",
    "y = 7"
   ]
  },
  {
   "cell_type": "code",
   "execution_count": 185,
   "id": "6260b6e9-5f59-4e48-a070-7c0d54a5ca5a",
   "metadata": {},
   "outputs": [
    {
     "data": {
      "text/plain": [
       "7"
      ]
     },
     "execution_count": 185,
     "metadata": {},
     "output_type": "execute_result"
    }
   ],
   "source": [
    "x and y"
   ]
  },
  {
   "cell_type": "code",
   "execution_count": 187,
   "id": "8c55114b-78a8-43f8-b47c-42f1f832245d",
   "metadata": {},
   "outputs": [
    {
     "data": {
      "text/plain": [
       "5"
      ]
     },
     "execution_count": 187,
     "metadata": {},
     "output_type": "execute_result"
    }
   ],
   "source": [
    "x or y"
   ]
  },
  {
   "cell_type": "code",
   "execution_count": null,
   "id": "21d0a952-e39a-408e-b75d-6bcd7d3218fe",
   "metadata": {},
   "outputs": [],
   "source": []
  }
 ],
 "metadata": {
  "kernelspec": {
   "display_name": "Python [conda env:base] *",
   "language": "python",
   "name": "conda-base-py"
  },
  "language_info": {
   "codemirror_mode": {
    "name": "ipython",
    "version": 3
   },
   "file_extension": ".py",
   "mimetype": "text/x-python",
   "name": "python",
   "nbconvert_exporter": "python",
   "pygments_lexer": "ipython3",
   "version": "3.12.7"
  }
 },
 "nbformat": 4,
 "nbformat_minor": 5
}
