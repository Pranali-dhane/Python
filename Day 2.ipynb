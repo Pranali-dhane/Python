{
 "cells": [
  {
   "cell_type": "markdown",
   "id": "ca831f58-a7d4-4699-ba43-51fcfc224d5a",
   "metadata": {},
   "source": [
    "# Conditional formatting"
   ]
  },
  {
   "cell_type": "code",
   "execution_count": 2,
   "id": "5a18cf36-40ee-49ef-b830-d09bfe359f18",
   "metadata": {},
   "outputs": [
    {
     "name": "stdout",
     "output_type": "stream",
     "text": [
      "The number is positive\n"
     ]
    }
   ],
   "source": [
    "# if statement\n",
    "num = 5\n",
    "\n",
    "if num > 0:\n",
    "    print(\"The number is positive\")"
   ]
  },
  {
   "cell_type": "code",
   "execution_count": 4,
   "id": "ca4a76f3-1ffc-43a7-9e99-dba72cc333ca",
   "metadata": {},
   "outputs": [
    {
     "name": "stdin",
     "output_type": "stream",
     "text": [
      "Enter your age 23\n"
     ]
    },
    {
     "name": "stdout",
     "output_type": "stream",
     "text": [
      "You are eligible to vote\n"
     ]
    }
   ],
   "source": [
    "age = int(input(\"24\"))\n",
    "\n",
    "if age >=18:\n",
    "    print(\"You are eligible to vote\")\n",
    "\n",
    "else:\n",
    "    print(\"You are not eligible\")"
   ]
  },
  {
   "cell_type": "markdown",
   "id": "8823893c-55ba-4324-98f5-45b56372af5f",
   "metadata": {},
   "source": [
    "Q3 : if -elif- else"
   ]
  },
  {
   "cell_type": "code",
   "execution_count": 9,
   "id": "5d983e40-7d5f-44fd-b2b2-e1d1eaaf43e0",
   "metadata": {},
   "outputs": [
    {
     "name": "stdin",
     "output_type": "stream",
     "text": [
      "Enter your score 88\n"
     ]
    },
    {
     "name": "stdout",
     "output_type": "stream",
     "text": [
      "Grade B\n"
     ]
    }
   ],
   "source": [
    "score = int(input(\"Enter your score\"))\n",
    "\n",
    "if score > 90 : \n",
    "    print(\"Grade A\")\n",
    "elif score > 80 :\n",
    "    print(\"Grade B\")\n",
    "elif score > 60 :\n",
    "    print(\"Grade C\")\n",
    "else :\n",
    "    print(\"Fail!\")"
   ]
  },
  {
   "cell_type": "markdown",
   "id": "aa5bc52a-8d27-4e6d-8b0d-01fd76749ef0",
   "metadata": {},
   "source": [
    "# Nested if else"
   ]
  },
  {
   "cell_type": "code",
   "execution_count": 26,
   "id": "58bcc446-91e3-4da7-8fba-210dad81fdc7",
   "metadata": {},
   "outputs": [
    {
     "name": "stdin",
     "output_type": "stream",
     "text": [
      "please enter a number 55\n"
     ]
    },
    {
     "name": "stdout",
     "output_type": "stream",
     "text": [
      "Positive and Odd Number\n"
     ]
    }
   ],
   "source": [
    "number = int(input(\"please enter a number\"))\n",
    "\n",
    "if number > 0:\n",
    "    if number % 2 ==0:\n",
    "        print(\"Positive and Even Number\")\n",
    "    else:\n",
    "        print(\"Positive and Odd Number\")\n",
    "elif num < 0 :\n",
    "    if number % 2 == 0 :\n",
    "        print(\"Negative and Even Number\")\n",
    "    else:\n",
    "        print(\"Negative and Odd Number\")"
   ]
  },
  {
   "cell_type": "code",
   "execution_count": 28,
   "id": "581401e5-3115-4462-8ca6-e6e3223e5fc7",
   "metadata": {},
   "outputs": [
    {
     "name": "stdin",
     "output_type": "stream",
     "text": [
      "Please enter your fav color Yellow\n"
     ]
    },
    {
     "name": "stdout",
     "output_type": "stream",
     "text": [
      "Your favourite color is Yellow\n"
     ]
    }
   ],
   "source": [
    "color = input(\"Please enter your fav color\")\n",
    "\n",
    "print(f\"Your favourite color is {color}\")"
   ]
  },
  {
   "cell_type": "markdown",
   "id": "6c76e508-8634-49ce-be30-7bb34f3b255e",
   "metadata": {},
   "source": [
    "# Loops in python"
   ]
  },
  {
   "cell_type": "code",
   "execution_count": 31,
   "id": "92a17d53-1998-44b9-975e-7835858c7d4d",
   "metadata": {},
   "outputs": [],
   "source": [
    "# while loop"
   ]
  },
  {
   "cell_type": "code",
   "execution_count": 43,
   "id": "0c0e0528-2912-4b05-831c-a502b95cb867",
   "metadata": {},
   "outputs": [
    {
     "name": "stdout",
     "output_type": "stream",
     "text": [
      "Count is  0\n",
      "Count is  1\n",
      "Count is  2\n",
      "Count is  3\n",
      "Count is  4\n"
     ]
    }
   ],
   "source": [
    "count = 0\n",
    "while count < 5 : \n",
    "    print(\"Count is \", count)\n",
    "    count = count + 1\n",
    "    # count += 1"
   ]
  },
  {
   "cell_type": "code",
   "execution_count": 45,
   "id": "a6ccacac-e17e-45bc-af0a-df2abe8f9e62",
   "metadata": {},
   "outputs": [],
   "source": [
    "# for loop\n"
   ]
  },
  {
   "cell_type": "code",
   "execution_count": 47,
   "id": "ffc9d426-77b2-4e2c-a73f-8d72f6912339",
   "metadata": {},
   "outputs": [
    {
     "name": "stdout",
     "output_type": "stream",
     "text": [
      "p\n",
      "r\n",
      "a\n",
      "n\n",
      "a\n",
      "l\n",
      "i\n"
     ]
    }
   ],
   "source": [
    "name = \"pranali\"\n",
    "\n",
    "for char in name :\n",
    "    print(char)"
   ]
  },
  {
   "cell_type": "markdown",
   "id": "76e086dd-7719-45d8-9389-8c7bf6bbdd76",
   "metadata": {},
   "source": [
    "# condition on loop"
   ]
  },
  {
   "cell_type": "code",
   "execution_count": 50,
   "id": "e385bafa-a831-4a3f-822d-5d3aed5c91a6",
   "metadata": {},
   "outputs": [],
   "source": [
    "# 1. break statement"
   ]
  },
  {
   "cell_type": "code",
   "execution_count": 52,
   "id": "aeefc132-26db-4b75-874c-0d37e75a5482",
   "metadata": {},
   "outputs": [
    {
     "name": "stdout",
     "output_type": "stream",
     "text": [
      "0\n",
      "1\n",
      "2\n",
      "3\n",
      "4\n",
      "5\n",
      "6\n",
      "7\n",
      "8\n",
      "9\n"
     ]
    }
   ],
   "source": [
    "for i in range(0,10) :\n",
    "    print(i)"
   ]
  },
  {
   "cell_type": "code",
   "execution_count": 54,
   "id": "4d80d7fe-0943-4701-b6ad-739e340a1cb9",
   "metadata": {},
   "outputs": [
    {
     "name": "stdout",
     "output_type": "stream",
     "text": [
      "0\n",
      "1\n",
      "2\n",
      "3\n",
      "4\n"
     ]
    }
   ],
   "source": [
    "for i in range(0,10) :\n",
    "    if i ==5:\n",
    "        break\n",
    "    print(i)"
   ]
  },
  {
   "cell_type": "code",
   "execution_count": 56,
   "id": "7812c243-1bf0-41e1-93b0-cc38a3df5c6c",
   "metadata": {},
   "outputs": [
    {
     "name": "stdout",
     "output_type": "stream",
     "text": [
      "0\n",
      "1\n",
      "2\n",
      "3\n",
      "4\n",
      "5\n"
     ]
    }
   ],
   "source": [
    "for i in range(0,10) :\n",
    "    if i >5:\n",
    "        break\n",
    "    print(i)"
   ]
  },
  {
   "cell_type": "code",
   "execution_count": 68,
   "id": "90a4b377-9123-4591-84a5-dcb255a45f99",
   "metadata": {},
   "outputs": [],
   "source": [
    "# continue"
   ]
  },
  {
   "cell_type": "code",
   "execution_count": 82,
   "id": "36032e6b-83b4-4cc5-aee8-b9205797f865",
   "metadata": {},
   "outputs": [
    {
     "name": "stdout",
     "output_type": "stream",
     "text": [
      "0\n",
      "1\n",
      "2\n",
      "3\n",
      "4\n",
      "6\n",
      "7\n",
      "8\n",
      "9\n"
     ]
    }
   ],
   "source": [
    "for i in range(0,10) :\n",
    "    if i == 5:\n",
    "        continue\n",
    "    print(i)"
   ]
  },
  {
   "cell_type": "code",
   "execution_count": 84,
   "id": "d6cccdb0-c22d-4aeb-8adc-f1d8ed433cef",
   "metadata": {},
   "outputs": [],
   "source": [
    "# pass"
   ]
  },
  {
   "cell_type": "code",
   "execution_count": 86,
   "id": "ee7ae93d-e9d1-49c2-8d2e-32fbe39e45f0",
   "metadata": {},
   "outputs": [],
   "source": [
    "for i in range(2,10):\n",
    "    pass"
   ]
  },
  {
   "cell_type": "markdown",
   "id": "a3f6797f-88ea-4580-85fb-518c434fa33f",
   "metadata": {},
   "source": [
    "Q.1: Reverse a string"
   ]
  },
  {
   "cell_type": "code",
   "execution_count": 95,
   "id": "375614a2-c140-47a7-b371-62ccb172fb25",
   "metadata": {},
   "outputs": [
    {
     "name": "stdout",
     "output_type": "stream",
     "text": [
      "emosewa si nohtyP\n"
     ]
    }
   ],
   "source": [
    "str1 = \"Python is awesome\"\n",
    "\n",
    "reverse_str1 = \"\"\n",
    "\n",
    "for char in str1:\n",
    "    reverse_str1 = char + reverse_str1\n",
    "print(reverse_str1)"
   ]
  },
  {
   "cell_type": "markdown",
   "id": "c11bfbed-5e4f-4b53-810e-ded88f2b7f72",
   "metadata": {},
   "source": [
    "# Function"
   ]
  },
  {
   "cell_type": "code",
   "execution_count": 98,
   "id": "1f82e1cf-9635-498c-be53-b84a9a397f1c",
   "metadata": {},
   "outputs": [],
   "source": [
    "def square(num):\n",
    "    result = num **2\n",
    "    return result"
   ]
  },
  {
   "cell_type": "code",
   "execution_count": 100,
   "id": "e5862980-da48-4a68-b5b7-8e03715ae1f7",
   "metadata": {},
   "outputs": [
    {
     "data": {
      "text/plain": [
       "25"
      ]
     },
     "execution_count": 100,
     "metadata": {},
     "output_type": "execute_result"
    }
   ],
   "source": [
    "# call function\n",
    "square(5)"
   ]
  },
  {
   "cell_type": "code",
   "execution_count": 102,
   "id": "79414790-1e01-4946-ba29-8b2e6455ef8b",
   "metadata": {},
   "outputs": [
    {
     "data": {
      "text/plain": [
       "100"
      ]
     },
     "execution_count": 102,
     "metadata": {},
     "output_type": "execute_result"
    }
   ],
   "source": [
    "#call function\n",
    "square(10)"
   ]
  },
  {
   "cell_type": "code",
   "execution_count": 106,
   "id": "a0f55914-ae4f-48d3-b5bd-f018e4d318c8",
   "metadata": {},
   "outputs": [],
   "source": [
    "def cube(num):\n",
    "    result = num ** 3\n",
    "    return result"
   ]
  },
  {
   "cell_type": "code",
   "execution_count": 108,
   "id": "bc9d6d18-6a5d-4166-80e5-838cc361bde1",
   "metadata": {},
   "outputs": [
    {
     "data": {
      "text/plain": [
       "125"
      ]
     },
     "execution_count": 108,
     "metadata": {},
     "output_type": "execute_result"
    }
   ],
   "source": [
    "# call function\n",
    "cube(5)"
   ]
  },
  {
   "cell_type": "code",
   "execution_count": 110,
   "id": "9ef35a0a-338e-4f85-ba49-e26ce27acb93",
   "metadata": {},
   "outputs": [],
   "source": [
    "def greet(name):\n",
    "    print(f\"Hello {name}\")"
   ]
  },
  {
   "cell_type": "code",
   "execution_count": 112,
   "id": "e6d60e7a-cc94-44cc-971b-2b946b4da821",
   "metadata": {},
   "outputs": [
    {
     "name": "stdout",
     "output_type": "stream",
     "text": [
      "Hello pranali\n"
     ]
    }
   ],
   "source": [
    "greet(\"pranali\")"
   ]
  },
  {
   "cell_type": "code",
   "execution_count": 114,
   "id": "da48b879-6f39-4682-835c-9794d3574cf5",
   "metadata": {},
   "outputs": [],
   "source": [
    "# default arugument function"
   ]
  },
  {
   "cell_type": "code",
   "execution_count": 124,
   "id": "8ec90f39-43b6-4966-b3fb-dc8e65a5997e",
   "metadata": {},
   "outputs": [],
   "source": [
    "def greet(name=\"Bob\"):\n",
    " print(f\"Hello {name}\")"
   ]
  },
  {
   "cell_type": "code",
   "execution_count": 128,
   "id": "8bd4aaab-4a28-4130-bcfe-5cd12e2307dc",
   "metadata": {},
   "outputs": [
    {
     "name": "stdout",
     "output_type": "stream",
     "text": [
      "Hello Bob\n"
     ]
    }
   ],
   "source": [
    "# call function\n",
    "greet()"
   ]
  },
  {
   "cell_type": "code",
   "execution_count": 132,
   "id": "7b8ba9c8-aba8-4ca7-a301-6a38354f3360",
   "metadata": {},
   "outputs": [
    {
     "name": "stdout",
     "output_type": "stream",
     "text": [
      "Hello charlie\n"
     ]
    }
   ],
   "source": [
    "# call function\n",
    "greet('charlie')"
   ]
  },
  {
   "cell_type": "code",
   "execution_count": 144,
   "id": "c2d82a99-22f5-4f7b-be82-c7c8764be2b7",
   "metadata": {},
   "outputs": [
    {
     "name": "stdout",
     "output_type": "stream",
     "text": [
      "<built-in function sum>\n"
     ]
    }
   ],
   "source": [
    "def add(x, y = 1):\n",
    "    sum = x + y \n",
    "print(sum)"
   ]
  },
  {
   "cell_type": "code",
   "execution_count": 146,
   "id": "0600cfde-0df2-48f1-bcde-0fd69457dae8",
   "metadata": {},
   "outputs": [],
   "source": [
    "# Variable Length function"
   ]
  },
  {
   "cell_type": "code",
   "execution_count": 156,
   "id": "7b5c0243-cc16-457b-8cb0-f60ecab6f4df",
   "metadata": {},
   "outputs": [],
   "source": [
    "# *args\n",
    "def sub(*args):\n",
    "    result = 0 \n",
    "    for num in args:\n",
    "        result = result - num\n",
    "    return result"
   ]
  },
  {
   "cell_type": "code",
   "execution_count": 158,
   "id": "34ecbdea-4894-44a1-ba0d-5afe5e27fcd1",
   "metadata": {},
   "outputs": [
    {
     "data": {
      "text/plain": [
       "-6"
      ]
     },
     "execution_count": 158,
     "metadata": {},
     "output_type": "execute_result"
    }
   ],
   "source": [
    "sub(1,2,3)"
   ]
  },
  {
   "cell_type": "code",
   "execution_count": 160,
   "id": "8de382ca-2b6e-4d84-8754-2375a7ca8149",
   "metadata": {},
   "outputs": [],
   "source": [
    "# Recursive function"
   ]
  },
  {
   "cell_type": "code",
   "execution_count": 164,
   "id": "9964bdfe-4de8-48e2-a7b9-4a86ee252e9f",
   "metadata": {},
   "outputs": [],
   "source": [
    "def factorial(num):\n",
    "    if num == 0 or num == 1 :\n",
    "        return 1 \n",
    "    else:\n",
    "        return num * factorial(num -1)"
   ]
  },
  {
   "cell_type": "code",
   "execution_count": 166,
   "id": "3c8ec9e4-d90f-44d1-a4cf-9fa3b0cf3882",
   "metadata": {},
   "outputs": [
    {
     "data": {
      "text/plain": [
       "120"
      ]
     },
     "execution_count": 166,
     "metadata": {},
     "output_type": "execute_result"
    }
   ],
   "source": [
    "factorial(5)"
   ]
  },
  {
   "cell_type": "code",
   "execution_count": 168,
   "id": "6677ef57-60b1-487f-84f9-4bfd5c4c03ae",
   "metadata": {},
   "outputs": [
    {
     "data": {
      "text/plain": [
       "40320"
      ]
     },
     "execution_count": 168,
     "metadata": {},
     "output_type": "execute_result"
    }
   ],
   "source": [
    "factorial(8)"
   ]
  },
  {
   "cell_type": "markdown",
   "id": "db87861a-f436-43ef-bc7b-aab555b2beeb",
   "metadata": {},
   "source": [
    "# Variable scope"
   ]
  },
  {
   "cell_type": "code",
   "execution_count": 171,
   "id": "f437a07a-cf90-4d27-9713-2f439649b7f3",
   "metadata": {},
   "outputs": [],
   "source": [
    "num = 10\n",
    "def a_function():\n",
    "    x = 9\n",
    "    print(x) # local \n",
    "    print(num) # global"
   ]
  },
  {
   "cell_type": "code",
   "execution_count": 173,
   "id": "f9dd5856-b5d0-40b8-be6e-8e28f7919a31",
   "metadata": {},
   "outputs": [
    {
     "name": "stdout",
     "output_type": "stream",
     "text": [
      "10\n"
     ]
    }
   ],
   "source": [
    "print(num)"
   ]
  },
  {
   "cell_type": "code",
   "execution_count": 175,
   "id": "6d5d2410-eaec-4a8a-94dd-4b80f9f542ba",
   "metadata": {},
   "outputs": [
    {
     "ename": "NameError",
     "evalue": "name 'x' is not defined",
     "output_type": "error",
     "traceback": [
      "\u001b[1;31m---------------------------------------------------------------------------\u001b[0m",
      "\u001b[1;31mNameError\u001b[0m                                 Traceback (most recent call last)",
      "Cell \u001b[1;32mIn[175], line 1\u001b[0m\n\u001b[1;32m----> 1\u001b[0m \u001b[38;5;28mprint\u001b[39m(x)\n",
      "\u001b[1;31mNameError\u001b[0m: name 'x' is not defined"
     ]
    }
   ],
   "source": [
    "print(x)"
   ]
  },
  {
   "cell_type": "code",
   "execution_count": 177,
   "id": "58e46d02-00b7-4ac1-8794-0af00c6bf54d",
   "metadata": {},
   "outputs": [
    {
     "name": "stdout",
     "output_type": "stream",
     "text": [
      "9\n",
      "10\n"
     ]
    }
   ],
   "source": [
    "a_function()"
   ]
  },
  {
   "cell_type": "markdown",
   "id": "2588c109-2234-4a49-85d4-15c44d1c26e0",
   "metadata": {},
   "source": [
    " # Q.1"
   ]
  },
  {
   "cell_type": "code",
   "execution_count": 184,
   "id": "5be5f85d-ee6c-4ea7-a313-d271e8f104eb",
   "metadata": {},
   "outputs": [],
   "source": [
    "def calculate_total_price(price, quantity):\n",
    "     total = price * quantity\n",
    "     return total "
   ]
  },
  {
   "cell_type": "code",
   "execution_count": 186,
   "id": "d883b697-e107-4e22-92d5-07a287607bf1",
   "metadata": {},
   "outputs": [
    {
     "name": "stdout",
     "output_type": "stream",
     "text": [
      "Total price is  900\n"
     ]
    }
   ],
   "source": [
    "item_price = 100\n",
    "item_quantity = 9\n",
    "\n",
    "print(\"Total price is \", calculate_total_price(item_price, item_quantity))"
   ]
  },
  {
   "cell_type": "code",
   "execution_count": 188,
   "id": "8b081414-702d-4ff5-b5cd-d1cd2560e0e4",
   "metadata": {},
   "outputs": [
    {
     "name": "stdout",
     "output_type": "stream",
     "text": [
      "Total price is  3500\n"
     ]
    }
   ],
   "source": [
    "item_price = 500\n",
    "item_quantity = 7\n",
    "\n",
    "print(\"Total price is \", calculate_total_price(item_price, item_quantity))"
   ]
  },
  {
   "cell_type": "markdown",
   "id": "1741b37f-3140-4d85-8f52-efd071be1b6e",
   "metadata": {
    "jp-MarkdownHeadingCollapsed": true
   },
   "source": [
    "# Nested Function"
   ]
  },
  {
   "cell_type": "markdown",
   "id": "4a97a491-1f48-4fca-b9bb-30dcbac676aa",
   "metadata": {},
   "source": [
    "# Lambda Function"
   ]
  },
  {
   "cell_type": "code",
   "execution_count": 213,
   "id": "57d49df0-57c0-4bdf-b946-a5bb7263e085",
   "metadata": {},
   "outputs": [],
   "source": [
    "sum_output = lambda x, y : x + y "
   ]
  },
  {
   "cell_type": "code",
   "execution_count": 217,
   "id": "76d857f2-ebca-400c-a292-784feb81dc8b",
   "metadata": {},
   "outputs": [
    {
     "name": "stdout",
     "output_type": "stream",
     "text": [
      "87\n"
     ]
    }
   ],
   "source": [
    "x = 9\n",
    "y = 78\n",
    "print(sum_output(x,y))"
   ]
  },
  {
   "cell_type": "code",
   "execution_count": 219,
   "id": "6f42746a-4631-4ac6-b888-6913ee6c55ba",
   "metadata": {},
   "outputs": [],
   "source": [
    "# Lambda function square of number\n",
    "sqr_num = lambda x : x **2"
   ]
  },
  {
   "cell_type": "code",
   "execution_count": 221,
   "id": "5bd157b7-9d17-488e-a8e2-12acf6f81e1b",
   "metadata": {},
   "outputs": [
    {
     "name": "stdout",
     "output_type": "stream",
     "text": [
      "64\n"
     ]
    }
   ],
   "source": [
    "x = 8\n",
    "print(sqr_num(x))"
   ]
  },
  {
   "cell_type": "code",
   "execution_count": 223,
   "id": "4afd9892-2257-42cd-aded-64c4561c90d2",
   "metadata": {},
   "outputs": [
    {
     "name": "stdout",
     "output_type": "stream",
     "text": [
      "49\n"
     ]
    }
   ],
   "source": [
    "x = 7\n",
    "print(sqr_num(x))"
   ]
  },
  {
   "cell_type": "markdown",
   "id": "4813a23b-9bb3-47ae-96a5-2f023f306b68",
   "metadata": {},
   "source": [
    "# Exceptional Handling"
   ]
  },
  {
   "cell_type": "markdown",
   "id": "b1e3efec-ba20-4120-bdad-a8d38c6a7b7b",
   "metadata": {},
   "source": [
    "# try block, except block , optional ( finally)"
   ]
  },
  {
   "cell_type": "code",
   "execution_count": 229,
   "id": "0bf3f1a4-153e-4449-a565-09d4ea7d7789",
   "metadata": {},
   "outputs": [],
   "source": [
    "def divide(num1, num2):\n",
    "    try:\n",
    "        result = num1/num2\n",
    "        return result\n",
    "    except:\n",
    "        print(\"Error: wrong number for division\")\n",
    "    finally:\n",
    "        print(\"The function is to divide 2 number\")"
   ]
  },
  {
   "cell_type": "code",
   "execution_count": 231,
   "id": "e5505f2f-d71d-4445-9406-966c6881ba32",
   "metadata": {},
   "outputs": [
    {
     "name": "stdout",
     "output_type": "stream",
     "text": [
      "The function is to divide 2 number\n"
     ]
    },
    {
     "data": {
      "text/plain": [
       "0.8"
      ]
     },
     "execution_count": 231,
     "metadata": {},
     "output_type": "execute_result"
    }
   ],
   "source": [
    "divide(4,5)"
   ]
  },
  {
   "cell_type": "code",
   "execution_count": 233,
   "id": "d5b2b78f-9dc8-4675-866a-0f3783d09582",
   "metadata": {},
   "outputs": [
    {
     "name": "stdout",
     "output_type": "stream",
     "text": [
      "Error: wrong number for division\n",
      "The function is to divide 2 number\n"
     ]
    }
   ],
   "source": [
    "divide(5,0)"
   ]
  },
  {
   "cell_type": "code",
   "execution_count": 235,
   "id": "916a12b4-5c7a-4d78-9a74-dd6eb926091a",
   "metadata": {},
   "outputs": [],
   "source": [
    "def get_user_input():\n",
    "    try:\n",
    "        user_input = int(input(\"Enter a number\"))\n",
    "        print(f\"User has entered a {user_input}\")\n",
    "    except:\n",
    "        print(\"Error: Invalid Input : Please enter a number only\")\n",
    "    finally:\n",
    "        print(\"Code is completed\")"
   ]
  },
  {
   "cell_type": "code",
   "execution_count": 237,
   "id": "79b0741f-8199-4923-9651-1972fd0ead3e",
   "metadata": {},
   "outputs": [
    {
     "name": "stdin",
     "output_type": "stream",
     "text": [
      "Enter a number pranali\n"
     ]
    },
    {
     "name": "stdout",
     "output_type": "stream",
     "text": [
      "Error: Invalid Input : Please enter a number only\n",
      "Code is completed\n"
     ]
    }
   ],
   "source": [
    "get_user_input()"
   ]
  },
  {
   "cell_type": "code",
   "execution_count": 239,
   "id": "91042b42-6871-4803-8de7-349806903d5e",
   "metadata": {},
   "outputs": [
    {
     "name": "stdin",
     "output_type": "stream",
     "text": [
      "Enter a number 56\n"
     ]
    },
    {
     "name": "stdout",
     "output_type": "stream",
     "text": [
      "User has entered a 56\n",
      "Code is completed\n"
     ]
    }
   ],
   "source": [
    "get_user_input()"
   ]
  },
  {
   "cell_type": "code",
   "execution_count": null,
   "id": "449ebf1c-ed09-49ae-806f-0d08236b86eb",
   "metadata": {},
   "outputs": [],
   "source": []
  }
 ],
 "metadata": {
  "kernelspec": {
   "display_name": "Python [conda env:base] *",
   "language": "python",
   "name": "conda-base-py"
  },
  "language_info": {
   "codemirror_mode": {
    "name": "ipython",
    "version": 3
   },
   "file_extension": ".py",
   "mimetype": "text/x-python",
   "name": "python",
   "nbconvert_exporter": "python",
   "pygments_lexer": "ipython3",
   "version": "3.12.7"
  }
 },
 "nbformat": 4,
 "nbformat_minor": 5
}
